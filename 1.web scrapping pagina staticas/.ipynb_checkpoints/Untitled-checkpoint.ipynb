{
 "cells": [
  {
   "cell_type": "code",
   "execution_count": null,
   "id": "0a8f7f2a-470d-437f-8c44-3d88d6182398",
   "metadata": {},
   "outputs": [],
   "source": [
    "\"\"\"\n",
    "OBJETIVOS: \n",
    "    - Extraer los idiomas de la pagina principal de WIKIPEDIA\n",
    "    - Aprender a utilizar requests para hacer requerimientos\n",
    "    - Aprender a utilizar lxml para parsear el arbol HTML\n",
    "CREADO POR: LEONARDO KUFFO\n",
    "ULTIMA VEZ EDITADO: 09 ENERO 2023\n",
    "\"\"\"\n",
    "import requests # pip install requests\n",
    "from lxml import html # pip install lxml\n",
    "\n",
    "# USER AGENT PARA PROTEGERNOS DE BANEOS\n",
    "headers = {\n",
    "    \"user-agent\": \"Mozilla/5.0 (X11; Linux x86_64) AppleWebKit/537.36 (KHTML, like Gecko) Ubuntu Chromium/71.0.3578.80 Chrome/71.0.3578.80 Safari/537.36\",\n",
    "}\n",
    "\n",
    "# URL SEMILLA\n",
    "url = 'https://www.wikipedia.org/'\n",
    "\n",
    "# REQUERIMIENTO AL SERVIDOR\n",
    "respuesta = requests.get(url, headers=headers)\n",
    "respuesta.encoding = 'utf-8' # Codificar correctamente caracteres extranos\n",
    "\n",
    "# PARSEO DEL ARBOL HTML QUE RECIBO COMO RESPUESTA CON LXML\n",
    "parser = html.fromstring(respuesta.content) # Uso .content para poder codificar los caracteres raros\n",
    "\n",
    "# EXTRACCION DE IDIOMA INGLES\n",
    "ingles = parser.get_element_by_id(\"js-link-box-en\")\n",
    "print (ingles.text_content())\n",
    "\n",
    "# EXTRACCION SOLO DEL TEXTO QUE DICE INGLES\n",
    "ingles = parser.xpath(\"//a[@id='js-link-box-en']/strong/text()\")\n",
    "print(ingles[0])\n",
    "\n",
    "# EXTRACCION DE TODOS LOS IDIOMAS POR CLASE\n",
    "idiomas = parser.find_class('central-featured-lang')\n",
    "for idioma in idiomas:\n",
    "  print(idioma.text_content())\n",
    "\n",
    "# EXTRACCION DE TODOS LOS IDIOMAS POR XPATH\n",
    "idiomas = parser.xpath(\"//div[contains(@class,'central-featured-lang')]//strong/text()\")\n",
    "for idioma in idiomas:\n",
    "  print(idioma)\n"
   ]
  }
 ],
 "metadata": {
  "kernelspec": {
   "display_name": "Python 3 (ipykernel)",
   "language": "python",
   "name": "python3"
  },
  "language_info": {
   "codemirror_mode": {
    "name": "ipython",
    "version": 3
   },
   "file_extension": ".py",
   "mimetype": "text/x-python",
   "name": "python",
   "nbconvert_exporter": "python",
   "pygments_lexer": "ipython3",
   "version": "3.12.4"
  }
 },
 "nbformat": 4,
 "nbformat_minor": 5
}
